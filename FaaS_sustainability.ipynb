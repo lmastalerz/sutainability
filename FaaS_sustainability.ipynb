{
  "nbformat": 4,
  "nbformat_minor": 0,
  "metadata": {
    "colab": {
      "name": "FaaS sustainability.ipynb",
      "provenance": [],
      "collapsed_sections": [],
      "authorship_tag": "ABX9TyPC15CL20LLn9KFe9dZoDKv",
      "include_colab_link": true
    },
    "kernelspec": {
      "name": "python3",
      "display_name": "Python 3"
    },
    "language_info": {
      "name": "python"
    }
  },
  "cells": [
    {
      "cell_type": "markdown",
      "metadata": {
        "id": "view-in-github",
        "colab_type": "text"
      },
      "source": [
        "<a href=\"https://colab.research.google.com/github/lmastalerz/sutainability/blob/main/FaaS_sustainability.ipynb\" target=\"_parent\"><img src=\"https://colab.research.google.com/assets/colab-badge.svg\" alt=\"Open In Colab\"/></a>"
      ]
    },
    {
      "cell_type": "markdown",
      "metadata": {
        "id": "irDZidBwhQEo"
      },
      "source": [
        "## **Is FaaS greener?**\n",
        "\n",
        "Serverless and Function as a Service seem to be promising in terms of they sustainability, but are they really more energy effifcient?\n",
        "\n",
        "Let's try to estimate.\n",
        "\n",
        "I'll be focusing on Azure, but many of these concepts should apply to other FaaS providers. \n",
        "For the sake of simplicity I'm ignoring a ton of factors like memory, storage, network and focusing on **CPU energy usage** only. It seems to be the most important factor anyway, especially for the workloads that are good candidates for FaaS.\n",
        "\n",
        "---\n",
        "\n",
        "## Hardware\n",
        "First, let's define energy usage of an average CPU core.\n",
        "This data comes from [Cloud Carbon Footprint](https://www.cloudcarbonfootprint.org/docs/methodology) methodology page, which in turn follows [Etsy's Cloud Jewels](https://codeascraft.com/2020/04/23/cloud-jewels-estimating-kwh-in-the-cloud/)\n",
        "\n"
      ]
    },
    {
      "cell_type": "code",
      "metadata": {
        "id": "rqIq_s1ogUCP"
      },
      "source": [
        "AVG_MIN_WATTS = 0.78\n",
        "AVG_MAX_WATTS = 3.76"
      ],
      "execution_count": 169,
      "outputs": []
    },
    {
      "cell_type": "markdown",
      "metadata": {
        "id": "RR93jLnDjQre"
      },
      "source": [
        "## IaaS\n",
        "Let's try to define baseline IaaS characteristics first.\n",
        "It's not unheard of to run applications on, say, 4-core VM's.\n",
        "They would also often run in pairs to ensure high availability and disaster recovery. At least this is likely to be what you end up moving your IaaS in a lift-and-shift approach from on-prem to the cloud (obviously you're not doing this and re-architecting everything as cloud-native, right?).\n",
        "\n",
        "We need to make some assuptions about CPU utilization ono the VM's running the app. I'm taking 10% and something I've seen, but this parameter can be definitely tweaked.\n"
      ]
    },
    {
      "cell_type": "code",
      "metadata": {
        "id": "mEPL352ygx6R"
      },
      "source": [
        "# Number of cores VM gets\n",
        "APP_VM_CORE_COUNT = 4\n",
        "\n",
        "# Average CPU consumption of the VM running the app\n",
        "APP_VM_USAGE_PER_CORE = 0.1"
      ],
      "execution_count": 170,
      "outputs": []
    },
    {
      "cell_type": "markdown",
      "metadata": {
        "id": "LvwMAgsqoq87"
      },
      "source": [
        "##FaaS\n",
        "One of the most important FaaS characteristics in this context is how long the function stays \"warm\" after the execution. Let's assume 10 minutes, which is default for Azure Functions and some other FaaS frameworks.\n",
        "FaaS cold start can be a complicated topic, details on what happens behin the scenes are available [here](https://azure.microsoft.com/en-us/blog/understanding-serverless-cold-start/). "
      ]
    },
    {
      "cell_type": "code",
      "metadata": {
        "id": "pB9Kvww3pIsM"
      },
      "source": [
        "# How long function stays \"warm\"\n",
        "FUN_TTL_MIN = 10"
      ],
      "execution_count": 171,
      "outputs": []
    },
    {
      "cell_type": "markdown",
      "metadata": {
        "id": "Ilf2NVtsmVrb"
      },
      "source": [
        "## Workload\n",
        "Let's try to define characteristics of the workload we'd like to test now. \n",
        "We're assessing workload that could be a good candidate for FaaS and \n",
        "[Microsoft's Research](https://www.microsoft.com/en-us/research/uploads/prod/2020/05/serverless-ATC20.pdf) highlights some very interesting aspects of FaaS workloads.\n",
        "\n",
        "For example, 90% of functions running as FaaS takes less than 60 seconds to executed, around 85% takes less than 10 seconds. Let's conservatively assume that our average function takes 10 seconds to run"
      ]
    },
    {
      "cell_type": "code",
      "metadata": {
        "id": "GyiZg5Wonqkb"
      },
      "source": [
        "# Average function execution time\n",
        "AVG_FUN_DURATION_SEC = 10"
      ],
      "execution_count": 172,
      "outputs": []
    },
    {
      "cell_type": "markdown",
      "metadata": {
        "id": "p077vLo89Esy"
      },
      "source": [
        "According to the same [Microsoft's Research](https://www.microsoft.com/en-us/research/uploads/prod/2020/05/serverless-ATC20.pdf) invocation distribution of Azure Functions follows an interesting pattern. On a very high level, research shows that the distribution of invocation frequencies is heavily skewed towards functions executing very infrequently.  \n",
        "\n",
        "In an attempt to simplify calculations, functions will be allocated to three buckets. \n"
      ]
    },
    {
      "cell_type": "code",
      "metadata": {
        "id": "kDwB5Mdd-C5U"
      },
      "source": [
        "# 40% of functions are being executed at least every 10 minutes.\n",
        "# This implies, that with default time function stay's warm (10 min) the function \n",
        "# is never deallocated \n",
        "FUN_INVOCATION_BKT_1_SIZE = 0.4\n",
        "\n",
        "# 40% of functions are being executed at most once every hour\n",
        "# This implies that within every hour function is deallocated most of the time \n",
        "# (50 minutes with default 10 min TTL)\n",
        "FUN_INVOCATION_BKT_2_SIZE = 0.4\n",
        "\n",
        "# 20% of functions fall somewhere between these two extremens.\n",
        "# They would execute more than once per hour but at the same time \n",
        "# sometimes will be deallocated because they didn't run for more than 10 mins\n",
        "#\n",
        "FUN_INVOCATION_BKT_3_SIZE = 0.2"
      ],
      "execution_count": 173,
      "outputs": []
    },
    {
      "cell_type": "code",
      "metadata": {
        "id": "-jeYnR0Dbvv5"
      },
      "source": [
        ""
      ],
      "execution_count": 173,
      "outputs": []
    },
    {
      "cell_type": "markdown",
      "metadata": {
        "id": "AsGpIPVnb4Nd"
      },
      "source": [
        "Let's define number of apps for which we run the simulation.\n",
        "For the sake of simplicity assumming there's no difference between Azure Function App and Azure Function (1:1 mapping). All distribution stats are taken for Function **App** with all its Functions inside, so this assumption shouldn't have an impact on results.  \n"
      ]
    },
    {
      "cell_type": "code",
      "metadata": {
        "id": "8A2V_rgRCM4c"
      },
      "source": [
        "# Number of apps\n",
        "NUMBER_OF_APPS = 1000"
      ],
      "execution_count": 174,
      "outputs": []
    },
    {
      "cell_type": "markdown",
      "metadata": {
        "id": "KgsvC-TQLTNy"
      },
      "source": [
        "\n",
        "\n",
        "---\n",
        "\n"
      ]
    },
    {
      "cell_type": "markdown",
      "metadata": {
        "id": "8ueUhaXg_3-u"
      },
      "source": [
        "### IaaS energy consumption\n",
        "For the workload described by the characteristics given above, which should be a failrly representative FaaS-eligible workload, let's try to calculate energy consumption in two different scenarios to understand how much we're saving by running it as serverless. \n",
        "\n",
        "Let's start with IaaS.\n",
        "We're running each app on it's own VM and we're deploying VM to two different data centers. \n",
        "Let's conservatively assume that all DR environments are only running as warm standby and don't to any processing under normal circumstances."
      ]
    },
    {
      "cell_type": "code",
      "metadata": {
        "id": "30sdje8EBJEi"
      },
      "source": [
        "# Number of VM's in primary DC\n",
        "NO_OF_PRIMARY_VMS = NO_OF_APPS\n",
        "# Number of VM's in standby DC\n",
        "NO_OF_STANDBY_VMS = NO_OF_APPS\n",
        "\n",
        "# Number of cores used by primary servers\n",
        "NO_OF_PRIMARY_CORES = NO_OF_PRIMARY_VMS * APP_VM_CORE_COUNT\n",
        "# Number of cores used by standby servers\n",
        "NO_OF_STANDBY_CORES = NO_OF_STANDBY_VMS * APP_VM_CORE_COUNT "
      ],
      "execution_count": 175,
      "outputs": []
    },
    {
      "cell_type": "markdown",
      "metadata": {
        "id": "Sq69wbFnGrkK"
      },
      "source": [
        "Now let's calculate energy used by these CPU's. \n",
        "Again, I'm ignoring energy footprint of memory, storage, network, etc.\n",
        "I'm also assumming that standby environments are there but there's no processing happening there (they're running but CPU usage is at 0%)"
      ]
    },
    {
      "cell_type": "code",
      "metadata": {
        "id": "gJjxwxaWBLfM"
      },
      "source": [
        "# Energy used irrespective of whether anything is running\n",
        "IAAS_IDLE_CPU_WATTS = NO_OF_PRIMARY_CORES * AVG_MIN_WATTS + NO_OF_STANDBY_CORES * AVG_MIN_WATTS\n",
        "\n",
        "# Energy used by active processes (ignoring standby here)\n",
        "IAAS_ACTIVE_CPU_WATTS = (AVG_MAX_WATTS - AVG_MIN_WATTS) * APP_VM_USAGE_PER_CORE * NO_OF_PRIMARY_CORES \n",
        "\n",
        "# Total energy used by the workload deployed on IaaS\n",
        "IAAS_TOTAL_CPU_WATTS = IAAS_IDLE_CPU_WATTS + IAAS_ACTIVE_CPU_WATTS"
      ],
      "execution_count": 176,
      "outputs": []
    },
    {
      "cell_type": "code",
      "metadata": {
        "colab": {
          "base_uri": "https://localhost:8080/"
        },
        "id": "24xOwF6-HXMN",
        "outputId": "9d2258b3-9c1d-4000-c30e-9b6510340d4a"
      },
      "source": [
        "print(\"Total energy consumption of\", NO_OF_APPS, \"is\", IAAS_TOTAL_CPU_WATTS, \"Watts\")"
      ],
      "execution_count": 177,
      "outputs": [
        {
          "output_type": "stream",
          "name": "stdout",
          "text": [
            "Total energy consumption of 1000 is 7432.0 Watts\n"
          ]
        }
      ]
    },
    {
      "cell_type": "markdown",
      "metadata": {
        "id": "lj4omN2uIsgI"
      },
      "source": [
        "## FaaS energy consumption \n",
        "FaaS consumption would have to be divided into three distinct groups as per buckets defined before. \n",
        "\n",
        "###Bucket 1\n",
        "Starting with functions that are being fired every 10 minutes of more often (bucket 1)"
      ]
    },
    {
      "cell_type": "code",
      "metadata": {
        "id": "uh0j52pfIGwe"
      },
      "source": [
        "# Number of apps which are a part of first bucket\n",
        "FAAS_BKT_1_NO_OF_APPS = NO_OF_APPS * FUN_INVOCATION_BKT_1_SIZE"
      ],
      "execution_count": 178,
      "outputs": []
    },
    {
      "cell_type": "markdown",
      "metadata": {
        "id": "f195Aps0Px0b"
      },
      "source": [
        "These apps are never deallocated, so they behave similarly to IaaS.\n",
        "Azure Functions have one core allocated to an instance (which can scale to another instances under high load - ignoring scalling for the sake of simplicity)"
      ]
    },
    {
      "cell_type": "code",
      "metadata": {
        "id": "egqs-E2bPxD4"
      },
      "source": [
        "# Number of cores needed by apps in the first bucket is equivalent to the number of apps\n",
        "FAAS_BKT_1_NO_CORES = FAAS_BKT_1_NO_OF_APPS"
      ],
      "execution_count": 179,
      "outputs": []
    },
    {
      "cell_type": "markdown",
      "metadata": {
        "id": "XYJQtt8fTuCH"
      },
      "source": [
        "Based on the distirbution mantioned above, functions in this bucket would run on average every minute (average is an onversimplification here, but should be enough for the final calculation)"
      ]
    },
    {
      "cell_type": "code",
      "metadata": {
        "id": "s2pOtd6KUDSZ"
      },
      "source": [
        "# Number of function invocations per hour for functions in bucket 1\n",
        "FAAS_BKT_1_INVOCATIONS_PER_HOUR = 60"
      ],
      "execution_count": 180,
      "outputs": []
    },
    {
      "cell_type": "markdown",
      "metadata": {
        "id": "mf08e9OKRMg5"
      },
      "source": [
        "Let's calculate energy consumption of these CPU cores now"
      ]
    },
    {
      "cell_type": "code",
      "metadata": {
        "colab": {
          "base_uri": "https://localhost:8080/"
        },
        "id": "SuUepRcURLET",
        "outputId": "594f793a-f344-4a1b-9b0e-d294a1338d5f"
      },
      "source": [
        "# Energy used irrespective of whether anything is running\n",
        "FAAS_BKT_1_IDLE_CPU_WATTS = FAAS_BKT_1_NO_CORES * AVG_MIN_WATTS\n",
        "\n",
        "# Energy used for actual code execution  \n",
        "FAAS_BKT_1_ACTIVE_CPU_WATTS = (AVG_MAX_WATTS - AVG_MIN_WATTS) * FAAS_BKT_1_NO_CORES \\\n",
        "* FAAS_BKT_1_INVOCATIONS_PER_HOUR * AVG_FUN_DURATION_SEC / 3600 # Average CPU usage \n",
        "\n",
        "# Total energy used by the FaaS workload from bucket 1\n",
        "FAAS_BKT_1_TOTAL_CPU_WATTS = FAAS_BKT_1_IDLE_CPU_WATTS + FAAS_BKT_1_ACTIVE_CPU_WATTS\n",
        "\n",
        "FAAS_BKT_1_TOTAL_CPU_WATTS"
      ],
      "execution_count": 181,
      "outputs": [
        {
          "output_type": "execute_result",
          "data": {
            "text/plain": [
              "510.66666666666663"
            ]
          },
          "metadata": {},
          "execution_count": 181
        }
      ]
    },
    {
      "cell_type": "markdown",
      "metadata": {
        "id": "L8mSjPewYJ-l"
      },
      "source": [
        "###Bucket 2\n",
        "Functions in this bucket fire at most once per hour\n"
      ]
    },
    {
      "cell_type": "code",
      "metadata": {
        "id": "8257a_JtVxn0"
      },
      "source": [
        "# Number of apps which are a part of second bucket\n",
        "FAAS_BKT_2_NO_OF_APPS = NO_OF_APPS * FUN_INVOCATION_BKT_2_SIZE"
      ],
      "execution_count": 182,
      "outputs": []
    },
    {
      "cell_type": "markdown",
      "metadata": {
        "id": "mgUQ0059Y1FU"
      },
      "source": [
        "These apps are only allocated for once execution per hour. \n",
        "With default 10 min TTL functions only need 1/6 of core to be allocated to them"
      ]
    },
    {
      "cell_type": "code",
      "metadata": {
        "id": "9ptrzWoHYxC6"
      },
      "source": [
        "# Number of cores needed by apps in the second bucket \n",
        "FAAS_BKT_2_NO_CORES = FAAS_BKT_2_NO_OF_APPS * FUN_TTL_MIN / 60"
      ],
      "execution_count": 183,
      "outputs": []
    },
    {
      "cell_type": "markdown",
      "metadata": {
        "id": "cchsNNbfZ2hZ"
      },
      "source": [
        "With a very conservative approach assumming that functions fire once per hour (in fact they run AT MOST once per hour)"
      ]
    },
    {
      "cell_type": "code",
      "metadata": {
        "id": "Sd6yuQygZuas"
      },
      "source": [
        "# Number of function invocations per hour for functions in bucket 2\n",
        "FAAS_BKT_2_INVOCATIONS_PER_HOUR = 1"
      ],
      "execution_count": 184,
      "outputs": []
    },
    {
      "cell_type": "markdown",
      "metadata": {
        "id": "PyRW8v45aNP0"
      },
      "source": [
        "And now calculating energy used by functions in this bucket"
      ]
    },
    {
      "cell_type": "code",
      "metadata": {
        "colab": {
          "base_uri": "https://localhost:8080/"
        },
        "id": "0PBpr695aJ5m",
        "outputId": "00eb7ad5-aaf7-422e-c51d-a400e5b45b5e"
      },
      "source": [
        "# Energy used irrespective of whether anything is running\n",
        "FAAS_BKT_2_IDLE_CPU_WATTS = FAAS_BKT_2_NO_CORES * AVG_MIN_WATTS\n",
        "\n",
        "# Energy used for actual code execution  \n",
        "FAAS_BKT_2_ACTIVE_CPU_WATTS = (AVG_MAX_WATTS - AVG_MIN_WATTS) * FAAS_BKT_2_NO_CORES \\\n",
        "* FAAS_BKT_2_INVOCATIONS_PER_HOUR * AVG_FUN_DURATION_SEC / 3600 # Average CPU usage \n",
        "\n",
        "# Total energy used by the FaaS workload from bucket 1\n",
        "FAAS_BKT_2_TOTAL_CPU_WATTS = FAAS_BKT_2_IDLE_CPU_WATTS + FAAS_BKT_2_ACTIVE_CPU_WATTS\n",
        "\n",
        "FAAS_BKT_2_TOTAL_CPU_WATTS"
      ],
      "execution_count": 185,
      "outputs": [
        {
          "output_type": "execute_result",
          "data": {
            "text/plain": [
              "52.55185185185186"
            ]
          },
          "metadata": {},
          "execution_count": 185
        }
      ]
    },
    {
      "cell_type": "markdown",
      "metadata": {
        "id": "SojtdFv6a7Y6"
      },
      "source": [
        "###Bucket 3\n",
        "Function in third (smallest) bucket execute a number of times per hour."
      ]
    },
    {
      "cell_type": "code",
      "metadata": {
        "id": "SzdebiwJae3d"
      },
      "source": [
        "# Number of apps which are a part of third bucket\n",
        "FAAS_BKT_3_NO_OF_APPS = NO_OF_APPS * FUN_INVOCATION_BKT_3_SIZE"
      ],
      "execution_count": 186,
      "outputs": []
    },
    {
      "cell_type": "markdown",
      "metadata": {
        "id": "yT-Q1CB7c8af"
      },
      "source": [
        "For functions in this group assumming that they will be deallocated for part of the time which is implied by the invocation frequency lower than every 10 minutes and default 10 min TTL. \n",
        "Assumming that they are allocated 75% of the time. "
      ]
    },
    {
      "cell_type": "code",
      "metadata": {
        "id": "Y9ZBtmAnbVm0"
      },
      "source": [
        "# Portion of the time when functions in this bucket are allocated\n",
        "FAAS_BKT_3_ALLOC = 0.75"
      ],
      "execution_count": 187,
      "outputs": []
    },
    {
      "cell_type": "markdown",
      "metadata": {
        "id": "uyXJ_QPreDi_"
      },
      "source": [
        "With this allocation number of cores needed by functions in this group can be calculated"
      ]
    },
    {
      "cell_type": "code",
      "metadata": {
        "id": "Sr4Fvsudd8Bi"
      },
      "source": [
        "# Number of cores needed by apps in the third bucket \n",
        "FAAS_BKT_3_NO_CORES = FAAS_BKT_3_NO_OF_APPS * FAAS_BKT_3_ALLOC"
      ],
      "execution_count": 188,
      "outputs": []
    },
    {
      "cell_type": "markdown",
      "metadata": {
        "id": "ntGaXmUIecrP"
      },
      "source": [
        "Number of executions per hour by definition needs to be greater than 1 and also allow for windows bigger than 10 minutes when functions are not running. Let's take 5. \n",
        "This seems very arbitrary, but given difference between energy used by idle cores and active cores in this bucket it makes pretty much no difference"
      ]
    },
    {
      "cell_type": "code",
      "metadata": {
        "id": "8y4DD1ZpeWP0"
      },
      "source": [
        "# Number of function invocations per hour for functions in bucket 2\n",
        "FAAS_BKT_3_INVOCATIONS_PER_HOUR = 5"
      ],
      "execution_count": 189,
      "outputs": []
    },
    {
      "cell_type": "markdown",
      "metadata": {
        "id": "2K7vleVDfhvA"
      },
      "source": [
        "Now we can calculate energy usage for functions in this bucket"
      ]
    },
    {
      "cell_type": "code",
      "metadata": {
        "colab": {
          "base_uri": "https://localhost:8080/"
        },
        "id": "ueuSK9fxfeWO",
        "outputId": "9f8a7119-77c0-4743-ecc9-9a2151a846c2"
      },
      "source": [
        "# Energy used irrespective of whether anything is running\n",
        "FAAS_BKT_3_IDLE_CPU_WATTS = FAAS_BKT_3_NO_CORES * AVG_MIN_WATTS\n",
        "\n",
        "\n",
        "# Energy used for actual code execution  \n",
        "FAAS_BKT_3_ACTIVE_CPU_WATTS = (AVG_MAX_WATTS - AVG_MIN_WATTS) * FAAS_BKT_3_NO_CORES \\\n",
        "* FAAS_BKT_3_INVOCATIONS_PER_HOUR * AVG_FUN_DURATION_SEC / 3600 # Average CPU usage \n",
        "\n",
        "\n",
        "# Total energy used by the FaaS workload from bucket 1\n",
        "FAAS_BKT_3_TOTAL_CPU_WATTS = FAAS_BKT_3_IDLE_CPU_WATTS + FAAS_BKT_3_ACTIVE_CPU_WATTS\n",
        "\n",
        "print(\"Idle\", FAAS_BKT_3_IDLE_CPU_WATTS, \"Active\", FAAS_BKT_3_ACTIVE_CPU_WATTS, \"Total\", FAAS_BKT_3_TOTAL_CPU_WATTS)"
      ],
      "execution_count": 190,
      "outputs": [
        {
          "output_type": "stream",
          "name": "stdout",
          "text": [
            "Idle 117.0 Active 6.208333333333332 Total 123.20833333333333\n"
          ]
        }
      ]
    },
    {
      "cell_type": "markdown",
      "metadata": {
        "id": "1PbVDu-Rgqd4"
      },
      "source": [
        "## FaaS Total\n",
        "Putting energy usage of functions from all FaaS buckets"
      ]
    },
    {
      "cell_type": "code",
      "metadata": {
        "id": "odzdU-SGg2b3"
      },
      "source": [
        "# Total energy consumption of all FaaS executions \n",
        "FAAS_TOTAL_CPU_WATTS = FAAS_BKT_1_TOTAL_CPU_WATTS + FAAS_BKT_2_TOTAL_CPU_WATTS + FAAS_BKT_3_TOTAL_CPU_WATTS"
      ],
      "execution_count": 191,
      "outputs": []
    },
    {
      "cell_type": "markdown",
      "metadata": {
        "id": "cm1bjfhahKpI"
      },
      "source": [
        "# Final comparison "
      ]
    },
    {
      "cell_type": "code",
      "metadata": {
        "colab": {
          "base_uri": "https://localhost:8080/"
        },
        "id": "6pykzxdzhIdN",
        "outputId": "4b3bf038-bc76-4b00-c55b-290440a07e32"
      },
      "source": [
        "print(\"Total energy used by IaaS deployments:\", IAAS_TOTAL_CPU_WATTS)\n",
        "print(\"Total energy used by FaaS deployments:\", FAAS_TOTAL_CPU_WATTS)\n",
        "print(\"Efficiency factor:\", IAAS_TOTAL_CPU_WATTS / FAAS_TOTAL_CPU_WATTS)"
      ],
      "execution_count": 192,
      "outputs": [
        {
          "output_type": "stream",
          "name": "stdout",
          "text": [
            "Total energy used by IaaS deployments: 7432.0\n",
            "Total energy used by FaaS deployments: 686.4268518518519\n",
            "Efficiency factor: 10.82708227387936\n"
          ]
        }
      ]
    }
  ]
}